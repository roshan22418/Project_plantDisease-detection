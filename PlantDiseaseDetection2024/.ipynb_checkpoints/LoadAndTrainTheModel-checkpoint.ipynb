{
 "cells": [
  {
   "cell_type": "markdown",
   "id": "507b285f-46ed-4540-abb8-28d64e74a719",
   "metadata": {
    "tags": []
   },
   "source": [
    "#### IN this project we use CNN(convolutional neural network:- CNNs are a type of deep neural network that are commonly used in CV tasks for their ability to extract local features from images  and handle variations in object appearance and orientation. They are composed of convolutional layers, pooling layers, and fully connected layers. \n"
   ]
  },
  {
   "cell_type": "markdown",
   "id": "9d682f64-9c9e-451d-8446-c6494306b064",
   "metadata": {},
   "source": [
    "### Import important library for build the train and load the image"
   ]
  },
  {
   "cell_type": "code",
   "execution_count": 49,
   "id": "5f0e268e-6d51-4a89-b18c-d78cfae1073b",
   "metadata": {
    "tags": []
   },
   "outputs": [],
   "source": [
    "import numpy as np \n",
    "import pandas as pd\n",
    "import seaborn as sns\n",
    "import tensorflow as tf\n",
    "from matplotlib import pyplot as plt\n",
    "from tensorflow.keras import Sequential\n",
    "from tensorflow.keras.layers import Conv2D, MaxPooling2D,Flatten,Dense\n",
    "from sklearn.metrics import classification_report,confusion_matrix"
   ]
  },
  {
   "cell_type": "markdown",
   "id": "0e641caf-ee85-4301-a372-40d0cd4777da",
   "metadata": {},
   "source": [
    "### Convert RGB image into digit(0-255) by using keras Train and valid dataset"
   ]
  },
  {
   "cell_type": "code",
   "execution_count": 3,
   "id": "34f0f260-8c35-438a-99ed-d23091d00f0a",
   "metadata": {
    "tags": []
   },
   "outputs": [
    {
     "name": "stdout",
     "output_type": "stream",
     "text": [
      "Total train data set 66980\n"
     ]
    }
   ],
   "source": [
    "train_dataSet = tf.data.Dataset.list_files('train/*/*', shuffle=True)\n",
    "image_count = len(train_dataSet)\n",
    "print(f\"Total train data set {image_count}\")"
   ]
  },
  {
   "cell_type": "code",
   "execution_count": 4,
   "id": "c5d8c750-2b38-4ad5-9809-144244b1b8f3",
   "metadata": {
    "tags": []
   },
   "outputs": [
    {
     "name": "stdout",
     "output_type": "stream",
     "text": [
      "Total valid data set 17572\n"
     ]
    }
   ],
   "source": [
    "valid_dataSet = tf.data.Dataset.list_files('valid/*/*', shuffle=True)\n",
    "image_count = len(valid_dataSet)\n",
    "print(f\"Total valid data set {image_count}\")"
   ]
  },
  {
   "cell_type": "code",
   "execution_count": 5,
   "id": "1798fd7a-b82b-4911-baef-271053cfab39",
   "metadata": {
    "tags": []
   },
   "outputs": [
    {
     "name": "stdout",
     "output_type": "stream",
     "text": [
      "Found 66980 files belonging to 38 classes.\n"
     ]
    }
   ],
   "source": [
    " train_image = tf.keras.utils.image_dataset_from_directory(\n",
    "    'train',\n",
    "    labels= \"inferred\",         #this inferred label detected form train data set automatice\n",
    "    label_mode=\"categorical\",   #means that the labels are encoded as a categorical vector,\n",
    "    class_names=None,\n",
    "    color_mode=\"rgb\",\n",
    "    batch_size=64,              # for fast processing use 64 at a time in pipe line of tensorflow\n",
    "    image_size=(128, 128),      # reduce image size of 128 by 128\n",
    "    shuffle=True,\n",
    "    seed=None,\n",
    "    validation_split=None,\n",
    "    subset=None,\n",
    "    interpolation=\"bilinear\",\n",
    "    follow_links=False,\n",
    "    crop_to_aspect_ratio=False,\n",
    "    pad_to_aspect_ratio=False,\n",
    "    data_format=None,\n",
    "    verbose=True,\n",
    ")"
   ]
  },
  {
   "cell_type": "markdown",
   "id": "a2c30ad6-a0a9-4198-9fe4-e02e81d2add3",
   "metadata": {},
   "source": [
    "##### visulaization data how data look like"
   ]
  },
  {
   "cell_type": "code",
   "execution_count": 6,
   "id": "76285fb7-ceee-4a41-805c-5477d5da245f",
   "metadata": {
    "tags": []
   },
   "outputs": [
    {
     "name": "stdout",
     "output_type": "stream",
     "text": [
      "128\n",
      "128\n",
      "64\n",
      "tf.Tensor(\n",
      "[[  0.     0.     0.  ]\n",
      " [  0.     0.     0.  ]\n",
      " [  0.     0.     0.  ]\n",
      " [  0.     0.     0.  ]\n",
      " [  0.     0.     0.  ]\n",
      " [  0.     0.     0.  ]\n",
      " [  0.     0.     0.  ]\n",
      " [  0.     0.     0.  ]\n",
      " [  0.     0.     0.  ]\n",
      " [  0.     0.     0.  ]\n",
      " [  0.     0.     0.  ]\n",
      " [  0.     0.     0.  ]\n",
      " [  0.     0.     0.  ]\n",
      " [  0.     0.     0.  ]\n",
      " [  0.     0.     0.  ]\n",
      " [  0.     0.     0.  ]\n",
      " [  0.     0.     0.  ]\n",
      " [  0.     0.     0.  ]\n",
      " [  0.     0.     0.  ]\n",
      " [  0.     0.     0.  ]\n",
      " [  0.     0.     0.  ]\n",
      " [  0.     0.     0.  ]\n",
      " [  0.     0.     0.  ]\n",
      " [  0.     0.     0.  ]\n",
      " [  6.25   2.75   0.75]\n",
      " [  6.     3.     0.  ]\n",
      " [ 40.    37.    34.5 ]\n",
      " [142.   139.   134.  ]\n",
      " [138.5  135.5  130.5 ]\n",
      " [144.25 141.25 136.25]\n",
      " [142.   139.   134.  ]\n",
      " [141.   138.   133.  ]\n",
      " [139.25 136.25 131.25]\n",
      " [138.25 135.25 130.25]\n",
      " [143.25 140.25 135.25]\n",
      " [135.25 132.25 127.25]\n",
      " [138.5  135.5  130.5 ]\n",
      " [138.75 135.75 130.75]\n",
      " [134.25 131.25 126.25]\n",
      " [135.   132.   127.  ]\n",
      " [132.5  129.5  124.5 ]\n",
      " [137.   134.   129.  ]\n",
      " [135.   132.   127.  ]\n",
      " [137.   134.   129.  ]\n",
      " [135.   132.   127.  ]\n",
      " [133.75 130.75 125.75]\n",
      " [137.25 134.25 129.25]\n",
      " [133.75 130.75 125.75]\n",
      " [137.75 134.75 129.75]\n",
      " [138.75 135.75 130.75]\n",
      " [139.75 136.75 131.75]\n",
      " [141.25 138.25 133.25]\n",
      " [139.   136.   131.  ]\n",
      " [136.   133.   128.  ]\n",
      " [135.25 132.25 127.25]\n",
      " [136.5  133.5  128.5 ]\n",
      " [135.75 132.75 127.75]\n",
      " [132.25 129.25 124.25]\n",
      " [130.75 127.75 122.75]\n",
      " [130.   127.   122.  ]\n",
      " [131.75 128.75 123.75]\n",
      " [134.75 131.75 126.75]\n",
      " [137.75 134.75 129.75]\n",
      " [133.25 130.25 125.25]\n",
      " [123.   120.   115.  ]\n",
      " [126.   123.   118.  ]\n",
      " [128.25 125.25 120.25]\n",
      " [128.   125.   120.  ]\n",
      " [129.   126.   121.  ]\n",
      " [126.5  123.5  118.5 ]\n",
      " [122.5  119.5  114.5 ]\n",
      " [125.75 122.75 117.75]\n",
      " [120.75 117.75 112.75]\n",
      " [121.   118.   113.  ]\n",
      " [113.75 110.75 105.75]\n",
      " [119.25 116.25 111.25]\n",
      " [118.   115.   110.  ]\n",
      " [122.   119.   114.  ]\n",
      " [121.   118.   113.  ]\n",
      " [124.75 121.75 116.75]\n",
      " [119.75 118.75 114.75]\n",
      " [123.   122.   118.  ]\n",
      " [ 90.    89.    85.  ]\n",
      " [  5.     4.     2.25]\n",
      " [  2.75   1.75   0.75]\n",
      " [  6.5    5.5    3.25]\n",
      " [  2.25   1.25   0.25]\n",
      " [  5.5    5.5    3.75]\n",
      " [  1.     3.     2.  ]\n",
      " [  0.     1.75   0.75]\n",
      " [  1.75   3.5    2.5 ]\n",
      " [  2.     4.75   3.75]\n",
      " [  0.     1.     0.  ]\n",
      " [  0.     1.     0.  ]\n",
      " [  0.     1.     0.  ]\n",
      " [  0.     1.     0.  ]\n",
      " [  0.     0.     0.  ]\n",
      " [  0.     0.     0.  ]\n",
      " [  0.     0.     0.  ]\n",
      " [  0.     0.     0.  ]\n",
      " [  0.     0.     0.  ]\n",
      " [  0.     0.     0.  ]\n",
      " [  0.     0.     0.  ]\n",
      " [  0.     0.     0.  ]\n",
      " [  0.     0.     0.  ]\n",
      " [  0.     0.     0.  ]\n",
      " [  0.     0.     0.  ]\n",
      " [  0.     0.     0.  ]\n",
      " [  0.     0.     0.  ]\n",
      " [  0.     0.     0.  ]\n",
      " [  0.     0.     0.  ]\n",
      " [  0.     0.     0.  ]\n",
      " [  0.     0.     0.  ]\n",
      " [  0.     0.     0.  ]\n",
      " [  0.     0.     0.  ]\n",
      " [  0.     0.     0.  ]\n",
      " [  0.     0.     0.  ]\n",
      " [  0.     0.     0.  ]\n",
      " [  0.     0.     0.  ]\n",
      " [  0.     0.     0.  ]\n",
      " [  0.     0.     0.  ]\n",
      " [  0.     0.     0.  ]\n",
      " [  0.     0.     0.  ]\n",
      " [  0.     0.     0.  ]\n",
      " [  0.     0.     0.  ]\n",
      " [  0.     0.     0.  ]\n",
      " [  0.     0.     0.  ]\n",
      " [  0.     0.     0.  ]], shape=(128, 3), dtype=float32)\n",
      "2\n"
     ]
    }
   ],
   "source": [
    "for train_dataset in train_image:\n",
    "    print(len(train_dataset[0][0][0]))\n",
    "    print(len(train_dataset[0][0]))\n",
    "    print(len(train_dataset[0]))\n",
    "    print(train_dataset[0][0][0])\n",
    "    print(len(train_dataset))\n",
    "    break"
   ]
  },
  {
   "cell_type": "code",
   "execution_count": 7,
   "id": "5dd86e6d-94e3-4781-9383-df9789174ec1",
   "metadata": {
    "tags": []
   },
   "outputs": [
    {
     "name": "stdout",
     "output_type": "stream",
     "text": [
      "Found 17572 files belonging to 38 classes.\n"
     ]
    }
   ],
   "source": [
    "validation_image = tf.keras.utils.image_dataset_from_directory(\n",
    "    'valid',\n",
    "    labels= \"inferred\",         #this inferred label detected form train data set automatice\n",
    "    label_mode=\"categorical\",   #means that the labels are encoded as a categorical vector,\n",
    "    class_names=None,\n",
    "    color_mode=\"rgb\",\n",
    "    batch_size=64,              # for fast processing use 64 at a time in pipe line of tensorflow\n",
    "    image_size=(128, 128),      # reduce image size of 128 by 128\n",
    "    shuffle=True,\n",
    "    seed=None,\n",
    "    validation_split=None,\n",
    "    subset=None,               #if we have both train and validation data set then this is use validation set \n",
    "    interpolation=\"bilinear\",\n",
    "    follow_links=False,\n",
    "    crop_to_aspect_ratio=False,\n",
    "    pad_to_aspect_ratio=False,\n",
    "    data_format=None,\n",
    "    verbose=True,\n",
    ")"
   ]
  },
  {
   "cell_type": "code",
   "execution_count": 109,
   "id": "06a5a7b8-abe3-4827-8bc5-09832c149a9a",
   "metadata": {
    "tags": []
   },
   "outputs": [
    {
     "name": "stdout",
     "output_type": "stream",
     "text": [
      "2\n",
      "(<tf.Tensor: shape=(64, 128, 128, 3), dtype=float32, numpy=\n",
      "array([[[[180.25, 170.25, 161.25],\n",
      "         [179.75, 169.75, 160.75],\n",
      "         [181.  , 171.  , 162.  ],\n",
      "         ...,\n",
      "         [154.75, 145.75, 138.75],\n",
      "         [150.75, 141.75, 134.75],\n",
      "         [149.5 , 140.5 , 133.5 ]],\n",
      "\n",
      "        [[179.  , 169.  , 160.  ],\n",
      "         [187.25, 177.25, 168.25],\n",
      "         [182.25, 172.25, 163.25],\n",
      "         ...,\n",
      "         [151.75, 142.75, 135.75],\n",
      "         [149.25, 140.25, 133.25],\n",
      "         [156.25, 147.25, 140.25]],\n",
      "\n",
      "        [[181.  , 171.  , 162.  ],\n",
      "         [175.75, 165.75, 156.75],\n",
      "         [184.5 , 174.5 , 165.5 ],\n",
      "         ...,\n",
      "         [137.75, 128.75, 121.75],\n",
      "         [147.75, 138.75, 131.75],\n",
      "         [149.  , 140.  , 133.  ]],\n",
      "\n",
      "        ...,\n",
      "\n",
      "        [[147.75, 135.75, 123.75],\n",
      "         [156.5 , 144.5 , 132.5 ],\n",
      "         [165.75, 153.75, 141.75],\n",
      "         ...,\n",
      "         [145.  , 132.  , 123.  ],\n",
      "         [160.25, 147.25, 138.25],\n",
      "         [156.5 , 143.5 , 134.5 ]],\n",
      "\n",
      "        [[157.25, 145.25, 133.25],\n",
      "         [143.  , 131.  , 119.  ],\n",
      "         [161.25, 149.25, 137.25],\n",
      "         ...,\n",
      "         [144.25, 131.25, 122.25],\n",
      "         [162.25, 149.25, 140.25],\n",
      "         [141.25, 128.25, 119.25]],\n",
      "\n",
      "        [[151.75, 139.75, 127.75],\n",
      "         [149.75, 137.75, 125.75],\n",
      "         [158.75, 146.75, 134.75],\n",
      "         ...,\n",
      "         [145.75, 132.75, 123.75],\n",
      "         [142.5 , 129.5 , 120.5 ],\n",
      "         [156.5 , 143.5 , 134.5 ]]],\n",
      "\n",
      "\n",
      "       [[[165.25, 145.25, 144.25],\n",
      "         [162.25, 142.25, 141.25],\n",
      "         [167.25, 147.25, 146.25],\n",
      "         ...,\n",
      "         [165.25, 145.25, 147.25],\n",
      "         [150.5 , 130.5 , 132.5 ],\n",
      "         [154.  , 134.  , 136.  ]],\n",
      "\n",
      "        [[165.5 , 145.5 , 144.5 ],\n",
      "         [170.  , 150.  , 149.  ],\n",
      "         [161.  , 141.  , 140.  ],\n",
      "         ...,\n",
      "         [147.5 , 127.5 , 129.5 ],\n",
      "         [141.  , 121.  , 123.  ],\n",
      "         [175.5 , 155.5 , 157.5 ]],\n",
      "\n",
      "        [[162.75, 142.75, 141.75],\n",
      "         [167.5 , 147.5 , 146.5 ],\n",
      "         [167.75, 147.75, 146.75],\n",
      "         ...,\n",
      "         [165.25, 145.25, 147.25],\n",
      "         [144.25, 124.25, 126.25],\n",
      "         [151.25, 131.25, 133.25]],\n",
      "\n",
      "        ...,\n",
      "\n",
      "        [[164.25, 149.25, 154.25],\n",
      "         [160.5 , 145.5 , 150.5 ],\n",
      "         [179.25, 164.25, 169.25],\n",
      "         ...,\n",
      "         [166.  , 148.  , 148.  ],\n",
      "         [164.75, 146.75, 146.75],\n",
      "         [168.25, 150.25, 150.25]],\n",
      "\n",
      "        [[160.5 , 145.5 , 150.5 ],\n",
      "         [152.75, 137.75, 142.75],\n",
      "         [164.  , 149.  , 154.  ],\n",
      "         ...,\n",
      "         [171.  , 153.  , 153.  ],\n",
      "         [167.  , 149.  , 149.  ],\n",
      "         [165.75, 147.75, 147.75]],\n",
      "\n",
      "        [[175.75, 160.75, 165.75],\n",
      "         [158.5 , 143.5 , 148.5 ],\n",
      "         [148.5 , 133.5 , 138.5 ],\n",
      "         ...,\n",
      "         [172.5 , 154.5 , 154.5 ],\n",
      "         [168.5 , 150.5 , 150.5 ],\n",
      "         [161.25, 143.25, 143.25]]],\n",
      "\n",
      "\n",
      "       [[[142.25, 143.25, 161.25],\n",
      "         [139.25, 140.25, 158.25],\n",
      "         [136.75, 137.75, 155.75],\n",
      "         ...,\n",
      "         [107.75, 107.75, 131.75],\n",
      "         [108.75, 108.75, 132.75],\n",
      "         [107.5 , 107.5 , 131.5 ]],\n",
      "\n",
      "        [[139.75, 140.75, 158.75],\n",
      "         [141.5 , 142.5 , 160.5 ],\n",
      "         [135.25, 136.25, 154.25],\n",
      "         ...,\n",
      "         [110.75, 110.75, 134.75],\n",
      "         [103.75, 103.75, 127.75],\n",
      "         [103.  , 103.  , 127.  ]],\n",
      "\n",
      "        [[142.5 , 143.5 , 161.5 ],\n",
      "         [148.25, 149.25, 167.25],\n",
      "         [139.  , 140.  , 158.  ],\n",
      "         ...,\n",
      "         [112.75, 112.75, 136.75],\n",
      "         [108.75, 108.75, 132.75],\n",
      "         [106.25, 106.25, 130.25]],\n",
      "\n",
      "        ...,\n",
      "\n",
      "        [[133.  , 148.  , 118.  ],\n",
      "         [111.  , 126.  ,  91.5 ],\n",
      "         [ 86.75, 101.75,  60.75],\n",
      "         ...,\n",
      "         [ 62.5 ,  75.5 ,  68.5 ],\n",
      "         [ 68.25,  81.25,  74.25],\n",
      "         [ 70.25,  83.25,  76.25]],\n",
      "\n",
      "        [[134.25, 147.75, 116.25],\n",
      "         [135.5 , 147.75, 111.5 ],\n",
      "         [101.5 , 114.5 ,  70.5 ],\n",
      "         ...,\n",
      "         [ 57.25,  70.25,  61.25],\n",
      "         [ 60.5 ,  73.5 ,  64.5 ],\n",
      "         [ 56.25,  69.25,  60.25]],\n",
      "\n",
      "        [[149.  , 160.  , 129.  ],\n",
      "         [136.25, 148.25, 110.25],\n",
      "         [130.  , 141.5 ,  96.  ],\n",
      "         ...,\n",
      "         [ 53.  ,  66.  ,  56.  ],\n",
      "         [ 57.  ,  70.  ,  60.  ],\n",
      "         [ 71.25,  84.25,  74.25]]],\n",
      "\n",
      "\n",
      "       ...,\n",
      "\n",
      "\n",
      "       [[[166.25, 152.25, 149.25],\n",
      "         [170.  , 156.  , 153.  ],\n",
      "         [170.75, 156.75, 153.75],\n",
      "         ...,\n",
      "         [187.  , 173.  , 172.  ],\n",
      "         [191.  , 177.  , 176.  ],\n",
      "         [185.5 , 171.5 , 170.5 ]],\n",
      "\n",
      "        [[166.75, 152.75, 149.75],\n",
      "         [173.5 , 159.5 , 156.5 ],\n",
      "         [158.75, 144.75, 141.75],\n",
      "         ...,\n",
      "         [183.5 , 169.5 , 168.5 ],\n",
      "         [169.  , 155.  , 154.  ],\n",
      "         [184.75, 170.75, 169.75]],\n",
      "\n",
      "        [[165.5 , 151.5 , 148.5 ],\n",
      "         [167.75, 153.75, 150.75],\n",
      "         [170.  , 156.  , 153.  ],\n",
      "         ...,\n",
      "         [186.25, 172.25, 171.25],\n",
      "         [178.25, 164.25, 163.25],\n",
      "         [187.5 , 173.5 , 172.5 ]],\n",
      "\n",
      "        ...,\n",
      "\n",
      "        [[180.25, 166.25, 165.25],\n",
      "         [174.  , 160.  , 159.  ],\n",
      "         [173.  , 159.  , 158.  ],\n",
      "         ...,\n",
      "         [173.25, 159.25, 158.25],\n",
      "         [165.25, 151.25, 150.25],\n",
      "         [182.75, 168.75, 167.75]],\n",
      "\n",
      "        [[176.5 , 162.5 , 161.5 ],\n",
      "         [180.75, 166.75, 165.75],\n",
      "         [176.75, 162.75, 161.75],\n",
      "         ...,\n",
      "         [165.  , 151.  , 150.  ],\n",
      "         [164.75, 150.75, 149.75],\n",
      "         [170.75, 156.75, 155.75]],\n",
      "\n",
      "        [[170.25, 156.25, 155.25],\n",
      "         [183.  , 169.  , 168.  ],\n",
      "         [176.5 , 162.5 , 161.5 ],\n",
      "         ...,\n",
      "         [165.75, 151.75, 150.75],\n",
      "         [164.75, 150.75, 149.75],\n",
      "         [164.25, 150.25, 149.25]]],\n",
      "\n",
      "\n",
      "       [[[115.75, 119.75, 118.75],\n",
      "         [114.5 , 118.5 , 117.5 ],\n",
      "         [116.75, 120.75, 119.75],\n",
      "         ...,\n",
      "         [126.75, 130.75, 129.75],\n",
      "         [127.25, 131.25, 130.25],\n",
      "         [128.75, 132.75, 131.75]],\n",
      "\n",
      "        [[117.5 , 121.5 , 120.5 ],\n",
      "         [115.75, 119.75, 118.75],\n",
      "         [117.75, 121.75, 120.75],\n",
      "         ...,\n",
      "         [128.25, 132.25, 131.25],\n",
      "         [126.75, 130.75, 129.75],\n",
      "         [127.  , 131.  , 130.  ]],\n",
      "\n",
      "        [[120.25, 124.25, 123.25],\n",
      "         [117.5 , 121.5 , 120.5 ],\n",
      "         [118.75, 122.75, 121.75],\n",
      "         ...,\n",
      "         [125.5 , 129.5 , 128.5 ],\n",
      "         [126.5 , 130.5 , 129.5 ],\n",
      "         [128.75, 132.75, 131.75]],\n",
      "\n",
      "        ...,\n",
      "\n",
      "        [[ 98.75, 103.75,  97.75],\n",
      "         [100.  , 105.  ,  99.  ],\n",
      "         [100.5 , 105.5 ,  99.5 ],\n",
      "         ...,\n",
      "         [117.25, 118.25, 113.25],\n",
      "         [113.25, 114.25, 109.25],\n",
      "         [110.25, 111.25, 106.25]],\n",
      "\n",
      "        [[103.  , 108.  , 102.  ],\n",
      "         [ 92.  ,  97.  ,  91.  ],\n",
      "         [ 97.  , 102.  ,  96.  ],\n",
      "         ...,\n",
      "         [111.  , 112.  , 107.  ],\n",
      "         [116.5 , 117.5 , 112.5 ],\n",
      "         [111.5 , 112.5 , 107.5 ]],\n",
      "\n",
      "        [[ 98.75, 103.75,  97.75],\n",
      "         [ 93.25,  98.25,  92.25],\n",
      "         [ 92.5 ,  97.5 ,  91.5 ],\n",
      "         ...,\n",
      "         [107.5 , 108.5 , 103.5 ],\n",
      "         [105.75, 106.75, 101.75],\n",
      "         [123.25, 124.25, 119.25]]],\n",
      "\n",
      "\n",
      "       [[[ 48.25,  36.25,  36.25],\n",
      "         [ 48.5 ,  36.5 ,  36.5 ],\n",
      "         [ 53.5 ,  41.5 ,  41.5 ],\n",
      "         ...,\n",
      "         [110.  , 134.  , 120.75],\n",
      "         [ 99.  , 123.  , 109.  ],\n",
      "         [105.25, 128.25, 112.25]],\n",
      "\n",
      "        [[ 48.  ,  36.  ,  36.  ],\n",
      "         [ 49.  ,  37.  ,  37.  ],\n",
      "         [ 57.  ,  45.  ,  45.  ],\n",
      "         ...,\n",
      "         [102.5 , 126.5 , 112.25],\n",
      "         [106.25, 130.25, 114.75],\n",
      "         [ 98.25, 121.25, 105.25]],\n",
      "\n",
      "        [[ 54.5 ,  40.5 ,  40.5 ],\n",
      "         [ 51.5 ,  37.5 ,  37.5 ],\n",
      "         [ 55.75,  41.75,  41.75],\n",
      "         ...,\n",
      "         [104.  , 127.  , 110.  ],\n",
      "         [107.5 , 131.75, 113.75],\n",
      "         [106.  , 131.  , 112.  ]],\n",
      "\n",
      "        ...,\n",
      "\n",
      "        [[ 62.25,  89.25,  70.25],\n",
      "         [ 63.  ,  90.  ,  71.  ],\n",
      "         [ 68.  ,  95.  ,  76.  ],\n",
      "         ...,\n",
      "         [153.  , 147.  , 159.  ],\n",
      "         [158.25, 152.25, 164.25],\n",
      "         [165.75, 159.75, 171.75]],\n",
      "\n",
      "        [[ 65.25,  92.25,  73.25],\n",
      "         [ 65.25,  92.25,  73.25],\n",
      "         [ 69.25,  96.25,  77.25],\n",
      "         ...,\n",
      "         [156.75, 150.75, 162.75],\n",
      "         [162.25, 156.25, 168.25],\n",
      "         [160.  , 154.  , 166.  ]],\n",
      "\n",
      "        [[ 64.5 ,  91.5 ,  72.5 ],\n",
      "         [ 64.5 ,  91.5 ,  72.5 ],\n",
      "         [ 67.5 ,  94.5 ,  75.5 ],\n",
      "         ...,\n",
      "         [146.75, 140.75, 152.75],\n",
      "         [152.75, 146.75, 158.75],\n",
      "         [153.5 , 147.5 , 159.5 ]]]], dtype=float32)>, <tf.Tensor: shape=(64, 38), dtype=float32, numpy=\n",
      "array([[0., 0., 0., ..., 0., 0., 0.],\n",
      "       [0., 0., 0., ..., 0., 0., 0.],\n",
      "       [0., 0., 0., ..., 0., 0., 0.],\n",
      "       ...,\n",
      "       [0., 0., 0., ..., 0., 0., 0.],\n",
      "       [0., 0., 0., ..., 0., 0., 0.],\n",
      "       [0., 0., 0., ..., 0., 0., 0.]], dtype=float32)>)\n"
     ]
    }
   ],
   "source": [
    "for i in validation_image:\n",
    "    # break\n",
    "    print(len(i))\n",
    "    print(i)\n",
    "    break"
   ]
  },
  {
   "cell_type": "markdown",
   "id": "88c6af4b-6781-4f4c-b45a-53bc59c8f31a",
   "metadata": {},
   "source": [
    "### train the model we use CNN and in this case we have input image and goes in convolution and select important feature and after that comes polling process then this also take reduce dimension and take important feature and after that fully connected convolutional neural network"
   ]
  },
  {
   "cell_type": "markdown",
   "id": "972e861c-fa7f-4ef5-ac1f-c663301e8cc3",
   "metadata": {},
   "source": [
    "## Train the model"
   ]
  },
  {
   "cell_type": "code",
   "execution_count": 10,
   "id": "3930973f-facb-4dea-b0e9-8e0fec60f7f9",
   "metadata": {
    "tags": []
   },
   "outputs": [],
   "source": [
    "CNN_model = Sequential()"
   ]
  },
  {
   "cell_type": "markdown",
   "id": "0e4f8214-cae4-415b-b9b0-75a1a875478a",
   "metadata": {},
   "source": [
    "#### add first layer"
   ]
  },
  {
   "cell_type": "code",
   "execution_count": 11,
   "id": "d32b6b30-4f04-4383-bc60-54692871f460",
   "metadata": {
    "tags": []
   },
   "outputs": [],
   "source": [
    "# Add the first convolutional layer\n",
    "CNN_model.add(tf.keras.layers.Conv2D(filters=32,\n",
    "                                     kernel_size=3,\n",
    "                                     padding='same',\n",
    "                                     activation='relu',\n",
    "                                     input_shape=[128,128,3]))\n",
    "#Add second convolutional layer\n",
    "CNN_model.add(tf.keras.layers.Conv2D(filters=32,\n",
    "                                     kernel_size=3,\n",
    "                                     activation='relu'))\n",
    "#Add maxPolling players\n",
    "CNN_model.add(tf.keras.layers.MaxPool2D(pool_size=2,\n",
    "                                        strides=2))"
   ]
  },
  {
   "cell_type": "markdown",
   "id": "ce27b911-dedd-497a-8fb6-113bd1e192d2",
   "metadata": {
    "tags": []
   },
   "source": [
    "#### add second layer"
   ]
  },
  {
   "cell_type": "code",
   "execution_count": 12,
   "id": "25142cb3-9dc7-42e2-be8a-0166d5c9607a",
   "metadata": {
    "tags": []
   },
   "outputs": [],
   "source": [
    "# Add the first convolutional layer\n",
    "CNN_model.add(tf.keras.layers.Conv2D(filters=64,\n",
    "                                     kernel_size=3,\n",
    "                                     padding='same',\n",
    "                                     activation='relu'))\n",
    "#Add second convolutional layer\n",
    "CNN_model.add(tf.keras.layers.Conv2D(filters=64,\n",
    "                                     kernel_size=3,\n",
    "                                     activation='relu'))\n",
    "#Add maxPolling players\n",
    "CNN_model.add(tf.keras.layers.MaxPool2D(pool_size=2,\n",
    "                                        strides=2))"
   ]
  },
  {
   "cell_type": "markdown",
   "id": "e758180d-c489-410d-a592-7410f4340c63",
   "metadata": {
    "tags": []
   },
   "source": [
    "#### add third layer"
   ]
  },
  {
   "cell_type": "code",
   "execution_count": 13,
   "id": "b94d3a4a-57df-4390-876d-0748a62f2b22",
   "metadata": {
    "tags": []
   },
   "outputs": [],
   "source": [
    "# Add the first convolutional layer\n",
    "CNN_model.add(tf.keras.layers.Conv2D(filters=128,                                     kernel_size=3,\n",
    "                                     padding='same',\n",
    "                                     activation='relu'))\n",
    "#Add second convolutional layer\n",
    "CNN_model.add(tf.keras.layers.Conv2D(filters=128,\n",
    "                                     kernel_size=3,\n",
    "                                     activation='relu'))\n",
    "#Add maxPolling players\n",
    "CNN_model.add(tf.keras.layers.MaxPool2D(pool_size=2,\n",
    "                                        strides=2))"
   ]
  },
  {
   "cell_type": "markdown",
   "id": "1cc678e6-4fa6-4589-ac2a-9e0e8d6000b7",
   "metadata": {},
   "source": [
    "#### add fourth layer "
   ]
  },
  {
   "cell_type": "code",
   "execution_count": 14,
   "id": "523264fd-35f3-4cb9-bab7-dce0556b0947",
   "metadata": {
    "tags": []
   },
   "outputs": [],
   "source": [
    "# Add the first convolutional layer\n",
    "CNN_model.add(tf.keras.layers.Conv2D(filters=256,\n",
    "                                     kernel_size=3,\n",
    "                                     padding='same',\n",
    "                                     activation='relu'))\n",
    "#Add second convolutional layer\n",
    "CNN_model.add(tf.keras.layers.Conv2D(filters=256,\n",
    "                                     kernel_size=3,\n",
    "                                     activation='relu'))\n",
    "#Add maxPolling players\n",
    "CNN_model.add(tf.keras.layers.MaxPool2D(pool_size=2,\n",
    "                                        strides=2))"
   ]
  },
  {
   "cell_type": "markdown",
   "id": "d197506e-6603-4bac-86ab-b92957fc6ffd",
   "metadata": {},
   "source": [
    "#### add fifth layer"
   ]
  },
  {
   "cell_type": "code",
   "execution_count": 15,
   "id": "61495a3c-c515-4459-9f57-2312f4cf781e",
   "metadata": {
    "tags": []
   },
   "outputs": [],
   "source": [
    "# Add the first convolutional layer\n",
    "CNN_model.add(tf.keras.layers.Conv2D(filters=512,\n",
    "                                     kernel_size=3,\n",
    "                                     padding='same',\n",
    "                                     activation='relu'))\n",
    "#Add second convolutional layer\n",
    "CNN_model.add(tf.keras.layers.Conv2D(filters=512,\n",
    "                                     kernel_size=3,\n",
    "                                     activation='relu'))\n",
    "#Add maxPolling players\n",
    "CNN_model.add(tf.keras.layers.MaxPool2D(pool_size=2,\n",
    "                                        strides=2))"
   ]
  },
  {
   "cell_type": "markdown",
   "id": "1d6be31d-cf00-489e-bf16-90aa45ea4511",
   "metadata": {},
   "source": [
    "#### flat the data after the convolutional and polling "
   ]
  },
  {
   "cell_type": "code",
   "execution_count": 16,
   "id": "037a8449-4708-48fd-93ec-54adfdf481c2",
   "metadata": {
    "tags": []
   },
   "outputs": [],
   "source": [
    "CNN_model.add(Flatten())"
   ]
  },
  {
   "cell_type": "markdown",
   "id": "a640721f-6086-4929-b7e4-7837883712f3",
   "metadata": {},
   "source": [
    "#### add dropout for avoid overfiiting "
   ]
  },
  {
   "cell_type": "code",
   "execution_count": 17,
   "id": "3aa7768a-b9be-4415-b4d3-5cd7e7047524",
   "metadata": {
    "tags": []
   },
   "outputs": [],
   "source": [
    "CNN_model.add(tf.keras.layers.Dropout(0.20))"
   ]
  },
  {
   "cell_type": "markdown",
   "id": "53a5b4a3-a81e-4f51-aefd-7ca592f319b6",
   "metadata": {},
   "source": [
    "#### add initial neural is 1600 "
   ]
  },
  {
   "cell_type": "code",
   "execution_count": 18,
   "id": "d5a83eef-17ed-494f-8af0-9be412dd2e9e",
   "metadata": {
    "tags": []
   },
   "outputs": [],
   "source": [
    "CNN_model.add(Dense(units=1400,activation = 'relu'))"
   ]
  },
  {
   "cell_type": "code",
   "execution_count": 19,
   "id": "657cff07-3def-4736-956b-1b59c06a4fe7",
   "metadata": {
    "tags": []
   },
   "outputs": [],
   "source": [
    "CNN_model.add(tf.keras.layers.Dropout(0.40))"
   ]
  },
  {
   "cell_type": "markdown",
   "id": "939c81a6-ac1d-47c1-8fff-e35708f66b60",
   "metadata": {},
   "source": [
    "#### output layer and use softmax"
   ]
  },
  {
   "cell_type": "code",
   "execution_count": 20,
   "id": "d86c6d9b-f9bb-4c51-a1fd-8b8b9bd57ee0",
   "metadata": {
    "tags": []
   },
   "outputs": [],
   "source": [
    "CNN_model.add(tf.keras.layers.Dense(units=38,activation='softmax'))"
   ]
  },
  {
   "cell_type": "code",
   "execution_count": 21,
   "id": "7d17f45d-f98e-4f92-9b67-ea30314c6788",
   "metadata": {
    "tags": []
   },
   "outputs": [],
   "source": [
    "CNN_model.compile(optimizer= tf.keras.optimizers.Adam(\n",
    "    learning_rate=0.0001),loss='categorical_crossentropy',metrics=['accuracy'])"
   ]
  },
  {
   "cell_type": "code",
   "execution_count": 47,
   "id": "0c5306e0-7653-405e-b470-82b30da0eb47",
   "metadata": {
    "tags": []
   },
   "outputs": [
    {
     "data": {
      "text/html": [
       "<pre style=\"white-space:pre;overflow-x:auto;line-height:normal;font-family:Menlo,'DejaVu Sans Mono',consolas,'Courier New',monospace\"><span style=\"font-weight: bold\">Model: \"sequential_1\"</span>\n",
       "</pre>\n"
      ],
      "text/plain": [
       "\u001b[1mModel: \"sequential_1\"\u001b[0m\n"
      ]
     },
     "metadata": {},
     "output_type": "display_data"
    },
    {
     "data": {
      "text/html": [
       "<pre style=\"white-space:pre;overflow-x:auto;line-height:normal;font-family:Menlo,'DejaVu Sans Mono',consolas,'Courier New',monospace\">┏━━━━━━━━━━━━━━━━━━━━━━━━━━━━━━━━━┳━━━━━━━━━━━━━━━━━━━━━━━━┳━━━━━━━━━━━━━━━┓\n",
       "┃<span style=\"font-weight: bold\"> Layer (type)                    </span>┃<span style=\"font-weight: bold\"> Output Shape           </span>┃<span style=\"font-weight: bold\">       Param # </span>┃\n",
       "┡━━━━━━━━━━━━━━━━━━━━━━━━━━━━━━━━━╇━━━━━━━━━━━━━━━━━━━━━━━━╇━━━━━━━━━━━━━━━┩\n",
       "│ conv2d_4 (<span style=\"color: #0087ff; text-decoration-color: #0087ff\">Conv2D</span>)               │ (<span style=\"color: #00d7ff; text-decoration-color: #00d7ff\">None</span>, <span style=\"color: #00af00; text-decoration-color: #00af00\">128</span>, <span style=\"color: #00af00; text-decoration-color: #00af00\">128</span>, <span style=\"color: #00af00; text-decoration-color: #00af00\">32</span>)   │           <span style=\"color: #00af00; text-decoration-color: #00af00\">896</span> │\n",
       "├─────────────────────────────────┼────────────────────────┼───────────────┤\n",
       "│ conv2d_5 (<span style=\"color: #0087ff; text-decoration-color: #0087ff\">Conv2D</span>)               │ (<span style=\"color: #00d7ff; text-decoration-color: #00d7ff\">None</span>, <span style=\"color: #00af00; text-decoration-color: #00af00\">126</span>, <span style=\"color: #00af00; text-decoration-color: #00af00\">126</span>, <span style=\"color: #00af00; text-decoration-color: #00af00\">32</span>)   │         <span style=\"color: #00af00; text-decoration-color: #00af00\">9,248</span> │\n",
       "├─────────────────────────────────┼────────────────────────┼───────────────┤\n",
       "│ max_pooling2d_1 (<span style=\"color: #0087ff; text-decoration-color: #0087ff\">MaxPooling2D</span>)  │ (<span style=\"color: #00d7ff; text-decoration-color: #00d7ff\">None</span>, <span style=\"color: #00af00; text-decoration-color: #00af00\">63</span>, <span style=\"color: #00af00; text-decoration-color: #00af00\">63</span>, <span style=\"color: #00af00; text-decoration-color: #00af00\">32</span>)     │             <span style=\"color: #00af00; text-decoration-color: #00af00\">0</span> │\n",
       "├─────────────────────────────────┼────────────────────────┼───────────────┤\n",
       "│ conv2d_6 (<span style=\"color: #0087ff; text-decoration-color: #0087ff\">Conv2D</span>)               │ (<span style=\"color: #00d7ff; text-decoration-color: #00d7ff\">None</span>, <span style=\"color: #00af00; text-decoration-color: #00af00\">63</span>, <span style=\"color: #00af00; text-decoration-color: #00af00\">63</span>, <span style=\"color: #00af00; text-decoration-color: #00af00\">64</span>)     │        <span style=\"color: #00af00; text-decoration-color: #00af00\">18,496</span> │\n",
       "├─────────────────────────────────┼────────────────────────┼───────────────┤\n",
       "│ conv2d_7 (<span style=\"color: #0087ff; text-decoration-color: #0087ff\">Conv2D</span>)               │ (<span style=\"color: #00d7ff; text-decoration-color: #00d7ff\">None</span>, <span style=\"color: #00af00; text-decoration-color: #00af00\">61</span>, <span style=\"color: #00af00; text-decoration-color: #00af00\">61</span>, <span style=\"color: #00af00; text-decoration-color: #00af00\">64</span>)     │        <span style=\"color: #00af00; text-decoration-color: #00af00\">36,928</span> │\n",
       "├─────────────────────────────────┼────────────────────────┼───────────────┤\n",
       "│ max_pooling2d_2 (<span style=\"color: #0087ff; text-decoration-color: #0087ff\">MaxPooling2D</span>)  │ (<span style=\"color: #00d7ff; text-decoration-color: #00d7ff\">None</span>, <span style=\"color: #00af00; text-decoration-color: #00af00\">30</span>, <span style=\"color: #00af00; text-decoration-color: #00af00\">30</span>, <span style=\"color: #00af00; text-decoration-color: #00af00\">64</span>)     │             <span style=\"color: #00af00; text-decoration-color: #00af00\">0</span> │\n",
       "├─────────────────────────────────┼────────────────────────┼───────────────┤\n",
       "│ conv2d_8 (<span style=\"color: #0087ff; text-decoration-color: #0087ff\">Conv2D</span>)               │ (<span style=\"color: #00d7ff; text-decoration-color: #00d7ff\">None</span>, <span style=\"color: #00af00; text-decoration-color: #00af00\">30</span>, <span style=\"color: #00af00; text-decoration-color: #00af00\">30</span>, <span style=\"color: #00af00; text-decoration-color: #00af00\">128</span>)    │        <span style=\"color: #00af00; text-decoration-color: #00af00\">73,856</span> │\n",
       "├─────────────────────────────────┼────────────────────────┼───────────────┤\n",
       "│ conv2d_9 (<span style=\"color: #0087ff; text-decoration-color: #0087ff\">Conv2D</span>)               │ (<span style=\"color: #00d7ff; text-decoration-color: #00d7ff\">None</span>, <span style=\"color: #00af00; text-decoration-color: #00af00\">28</span>, <span style=\"color: #00af00; text-decoration-color: #00af00\">28</span>, <span style=\"color: #00af00; text-decoration-color: #00af00\">128</span>)    │       <span style=\"color: #00af00; text-decoration-color: #00af00\">147,584</span> │\n",
       "├─────────────────────────────────┼────────────────────────┼───────────────┤\n",
       "│ max_pooling2d_3 (<span style=\"color: #0087ff; text-decoration-color: #0087ff\">MaxPooling2D</span>)  │ (<span style=\"color: #00d7ff; text-decoration-color: #00d7ff\">None</span>, <span style=\"color: #00af00; text-decoration-color: #00af00\">14</span>, <span style=\"color: #00af00; text-decoration-color: #00af00\">14</span>, <span style=\"color: #00af00; text-decoration-color: #00af00\">128</span>)    │             <span style=\"color: #00af00; text-decoration-color: #00af00\">0</span> │\n",
       "├─────────────────────────────────┼────────────────────────┼───────────────┤\n",
       "│ conv2d_10 (<span style=\"color: #0087ff; text-decoration-color: #0087ff\">Conv2D</span>)              │ (<span style=\"color: #00d7ff; text-decoration-color: #00d7ff\">None</span>, <span style=\"color: #00af00; text-decoration-color: #00af00\">14</span>, <span style=\"color: #00af00; text-decoration-color: #00af00\">14</span>, <span style=\"color: #00af00; text-decoration-color: #00af00\">256</span>)    │       <span style=\"color: #00af00; text-decoration-color: #00af00\">295,168</span> │\n",
       "├─────────────────────────────────┼────────────────────────┼───────────────┤\n",
       "│ conv2d_11 (<span style=\"color: #0087ff; text-decoration-color: #0087ff\">Conv2D</span>)              │ (<span style=\"color: #00d7ff; text-decoration-color: #00d7ff\">None</span>, <span style=\"color: #00af00; text-decoration-color: #00af00\">12</span>, <span style=\"color: #00af00; text-decoration-color: #00af00\">12</span>, <span style=\"color: #00af00; text-decoration-color: #00af00\">256</span>)    │       <span style=\"color: #00af00; text-decoration-color: #00af00\">590,080</span> │\n",
       "├─────────────────────────────────┼────────────────────────┼───────────────┤\n",
       "│ max_pooling2d_4 (<span style=\"color: #0087ff; text-decoration-color: #0087ff\">MaxPooling2D</span>)  │ (<span style=\"color: #00d7ff; text-decoration-color: #00d7ff\">None</span>, <span style=\"color: #00af00; text-decoration-color: #00af00\">6</span>, <span style=\"color: #00af00; text-decoration-color: #00af00\">6</span>, <span style=\"color: #00af00; text-decoration-color: #00af00\">256</span>)      │             <span style=\"color: #00af00; text-decoration-color: #00af00\">0</span> │\n",
       "├─────────────────────────────────┼────────────────────────┼───────────────┤\n",
       "│ conv2d_12 (<span style=\"color: #0087ff; text-decoration-color: #0087ff\">Conv2D</span>)              │ (<span style=\"color: #00d7ff; text-decoration-color: #00d7ff\">None</span>, <span style=\"color: #00af00; text-decoration-color: #00af00\">6</span>, <span style=\"color: #00af00; text-decoration-color: #00af00\">6</span>, <span style=\"color: #00af00; text-decoration-color: #00af00\">512</span>)      │     <span style=\"color: #00af00; text-decoration-color: #00af00\">1,180,160</span> │\n",
       "├─────────────────────────────────┼────────────────────────┼───────────────┤\n",
       "│ conv2d_13 (<span style=\"color: #0087ff; text-decoration-color: #0087ff\">Conv2D</span>)              │ (<span style=\"color: #00d7ff; text-decoration-color: #00d7ff\">None</span>, <span style=\"color: #00af00; text-decoration-color: #00af00\">4</span>, <span style=\"color: #00af00; text-decoration-color: #00af00\">4</span>, <span style=\"color: #00af00; text-decoration-color: #00af00\">512</span>)      │     <span style=\"color: #00af00; text-decoration-color: #00af00\">2,359,808</span> │\n",
       "├─────────────────────────────────┼────────────────────────┼───────────────┤\n",
       "│ max_pooling2d_5 (<span style=\"color: #0087ff; text-decoration-color: #0087ff\">MaxPooling2D</span>)  │ (<span style=\"color: #00d7ff; text-decoration-color: #00d7ff\">None</span>, <span style=\"color: #00af00; text-decoration-color: #00af00\">2</span>, <span style=\"color: #00af00; text-decoration-color: #00af00\">2</span>, <span style=\"color: #00af00; text-decoration-color: #00af00\">512</span>)      │             <span style=\"color: #00af00; text-decoration-color: #00af00\">0</span> │\n",
       "├─────────────────────────────────┼────────────────────────┼───────────────┤\n",
       "│ flatten (<span style=\"color: #0087ff; text-decoration-color: #0087ff\">Flatten</span>)               │ (<span style=\"color: #00d7ff; text-decoration-color: #00d7ff\">None</span>, <span style=\"color: #00af00; text-decoration-color: #00af00\">2048</span>)           │             <span style=\"color: #00af00; text-decoration-color: #00af00\">0</span> │\n",
       "├─────────────────────────────────┼────────────────────────┼───────────────┤\n",
       "│ dropout (<span style=\"color: #0087ff; text-decoration-color: #0087ff\">Dropout</span>)               │ (<span style=\"color: #00d7ff; text-decoration-color: #00d7ff\">None</span>, <span style=\"color: #00af00; text-decoration-color: #00af00\">2048</span>)           │             <span style=\"color: #00af00; text-decoration-color: #00af00\">0</span> │\n",
       "├─────────────────────────────────┼────────────────────────┼───────────────┤\n",
       "│ dense (<span style=\"color: #0087ff; text-decoration-color: #0087ff\">Dense</span>)                   │ (<span style=\"color: #00d7ff; text-decoration-color: #00d7ff\">None</span>, <span style=\"color: #00af00; text-decoration-color: #00af00\">1400</span>)           │     <span style=\"color: #00af00; text-decoration-color: #00af00\">2,868,600</span> │\n",
       "├─────────────────────────────────┼────────────────────────┼───────────────┤\n",
       "│ dropout_1 (<span style=\"color: #0087ff; text-decoration-color: #0087ff\">Dropout</span>)             │ (<span style=\"color: #00d7ff; text-decoration-color: #00d7ff\">None</span>, <span style=\"color: #00af00; text-decoration-color: #00af00\">1400</span>)           │             <span style=\"color: #00af00; text-decoration-color: #00af00\">0</span> │\n",
       "├─────────────────────────────────┼────────────────────────┼───────────────┤\n",
       "│ dense_1 (<span style=\"color: #0087ff; text-decoration-color: #0087ff\">Dense</span>)                 │ (<span style=\"color: #00d7ff; text-decoration-color: #00d7ff\">None</span>, <span style=\"color: #00af00; text-decoration-color: #00af00\">38</span>)             │        <span style=\"color: #00af00; text-decoration-color: #00af00\">53,238</span> │\n",
       "└─────────────────────────────────┴────────────────────────┴───────────────┘\n",
       "</pre>\n"
      ],
      "text/plain": [
       "┏━━━━━━━━━━━━━━━━━━━━━━━━━━━━━━━━━┳━━━━━━━━━━━━━━━━━━━━━━━━┳━━━━━━━━━━━━━━━┓\n",
       "┃\u001b[1m \u001b[0m\u001b[1mLayer (type)                   \u001b[0m\u001b[1m \u001b[0m┃\u001b[1m \u001b[0m\u001b[1mOutput Shape          \u001b[0m\u001b[1m \u001b[0m┃\u001b[1m \u001b[0m\u001b[1m      Param #\u001b[0m\u001b[1m \u001b[0m┃\n",
       "┡━━━━━━━━━━━━━━━━━━━━━━━━━━━━━━━━━╇━━━━━━━━━━━━━━━━━━━━━━━━╇━━━━━━━━━━━━━━━┩\n",
       "│ conv2d_4 (\u001b[38;5;33mConv2D\u001b[0m)               │ (\u001b[38;5;45mNone\u001b[0m, \u001b[38;5;34m128\u001b[0m, \u001b[38;5;34m128\u001b[0m, \u001b[38;5;34m32\u001b[0m)   │           \u001b[38;5;34m896\u001b[0m │\n",
       "├─────────────────────────────────┼────────────────────────┼───────────────┤\n",
       "│ conv2d_5 (\u001b[38;5;33mConv2D\u001b[0m)               │ (\u001b[38;5;45mNone\u001b[0m, \u001b[38;5;34m126\u001b[0m, \u001b[38;5;34m126\u001b[0m, \u001b[38;5;34m32\u001b[0m)   │         \u001b[38;5;34m9,248\u001b[0m │\n",
       "├─────────────────────────────────┼────────────────────────┼───────────────┤\n",
       "│ max_pooling2d_1 (\u001b[38;5;33mMaxPooling2D\u001b[0m)  │ (\u001b[38;5;45mNone\u001b[0m, \u001b[38;5;34m63\u001b[0m, \u001b[38;5;34m63\u001b[0m, \u001b[38;5;34m32\u001b[0m)     │             \u001b[38;5;34m0\u001b[0m │\n",
       "├─────────────────────────────────┼────────────────────────┼───────────────┤\n",
       "│ conv2d_6 (\u001b[38;5;33mConv2D\u001b[0m)               │ (\u001b[38;5;45mNone\u001b[0m, \u001b[38;5;34m63\u001b[0m, \u001b[38;5;34m63\u001b[0m, \u001b[38;5;34m64\u001b[0m)     │        \u001b[38;5;34m18,496\u001b[0m │\n",
       "├─────────────────────────────────┼────────────────────────┼───────────────┤\n",
       "│ conv2d_7 (\u001b[38;5;33mConv2D\u001b[0m)               │ (\u001b[38;5;45mNone\u001b[0m, \u001b[38;5;34m61\u001b[0m, \u001b[38;5;34m61\u001b[0m, \u001b[38;5;34m64\u001b[0m)     │        \u001b[38;5;34m36,928\u001b[0m │\n",
       "├─────────────────────────────────┼────────────────────────┼───────────────┤\n",
       "│ max_pooling2d_2 (\u001b[38;5;33mMaxPooling2D\u001b[0m)  │ (\u001b[38;5;45mNone\u001b[0m, \u001b[38;5;34m30\u001b[0m, \u001b[38;5;34m30\u001b[0m, \u001b[38;5;34m64\u001b[0m)     │             \u001b[38;5;34m0\u001b[0m │\n",
       "├─────────────────────────────────┼────────────────────────┼───────────────┤\n",
       "│ conv2d_8 (\u001b[38;5;33mConv2D\u001b[0m)               │ (\u001b[38;5;45mNone\u001b[0m, \u001b[38;5;34m30\u001b[0m, \u001b[38;5;34m30\u001b[0m, \u001b[38;5;34m128\u001b[0m)    │        \u001b[38;5;34m73,856\u001b[0m │\n",
       "├─────────────────────────────────┼────────────────────────┼───────────────┤\n",
       "│ conv2d_9 (\u001b[38;5;33mConv2D\u001b[0m)               │ (\u001b[38;5;45mNone\u001b[0m, \u001b[38;5;34m28\u001b[0m, \u001b[38;5;34m28\u001b[0m, \u001b[38;5;34m128\u001b[0m)    │       \u001b[38;5;34m147,584\u001b[0m │\n",
       "├─────────────────────────────────┼────────────────────────┼───────────────┤\n",
       "│ max_pooling2d_3 (\u001b[38;5;33mMaxPooling2D\u001b[0m)  │ (\u001b[38;5;45mNone\u001b[0m, \u001b[38;5;34m14\u001b[0m, \u001b[38;5;34m14\u001b[0m, \u001b[38;5;34m128\u001b[0m)    │             \u001b[38;5;34m0\u001b[0m │\n",
       "├─────────────────────────────────┼────────────────────────┼───────────────┤\n",
       "│ conv2d_10 (\u001b[38;5;33mConv2D\u001b[0m)              │ (\u001b[38;5;45mNone\u001b[0m, \u001b[38;5;34m14\u001b[0m, \u001b[38;5;34m14\u001b[0m, \u001b[38;5;34m256\u001b[0m)    │       \u001b[38;5;34m295,168\u001b[0m │\n",
       "├─────────────────────────────────┼────────────────────────┼───────────────┤\n",
       "│ conv2d_11 (\u001b[38;5;33mConv2D\u001b[0m)              │ (\u001b[38;5;45mNone\u001b[0m, \u001b[38;5;34m12\u001b[0m, \u001b[38;5;34m12\u001b[0m, \u001b[38;5;34m256\u001b[0m)    │       \u001b[38;5;34m590,080\u001b[0m │\n",
       "├─────────────────────────────────┼────────────────────────┼───────────────┤\n",
       "│ max_pooling2d_4 (\u001b[38;5;33mMaxPooling2D\u001b[0m)  │ (\u001b[38;5;45mNone\u001b[0m, \u001b[38;5;34m6\u001b[0m, \u001b[38;5;34m6\u001b[0m, \u001b[38;5;34m256\u001b[0m)      │             \u001b[38;5;34m0\u001b[0m │\n",
       "├─────────────────────────────────┼────────────────────────┼───────────────┤\n",
       "│ conv2d_12 (\u001b[38;5;33mConv2D\u001b[0m)              │ (\u001b[38;5;45mNone\u001b[0m, \u001b[38;5;34m6\u001b[0m, \u001b[38;5;34m6\u001b[0m, \u001b[38;5;34m512\u001b[0m)      │     \u001b[38;5;34m1,180,160\u001b[0m │\n",
       "├─────────────────────────────────┼────────────────────────┼───────────────┤\n",
       "│ conv2d_13 (\u001b[38;5;33mConv2D\u001b[0m)              │ (\u001b[38;5;45mNone\u001b[0m, \u001b[38;5;34m4\u001b[0m, \u001b[38;5;34m4\u001b[0m, \u001b[38;5;34m512\u001b[0m)      │     \u001b[38;5;34m2,359,808\u001b[0m │\n",
       "├─────────────────────────────────┼────────────────────────┼───────────────┤\n",
       "│ max_pooling2d_5 (\u001b[38;5;33mMaxPooling2D\u001b[0m)  │ (\u001b[38;5;45mNone\u001b[0m, \u001b[38;5;34m2\u001b[0m, \u001b[38;5;34m2\u001b[0m, \u001b[38;5;34m512\u001b[0m)      │             \u001b[38;5;34m0\u001b[0m │\n",
       "├─────────────────────────────────┼────────────────────────┼───────────────┤\n",
       "│ flatten (\u001b[38;5;33mFlatten\u001b[0m)               │ (\u001b[38;5;45mNone\u001b[0m, \u001b[38;5;34m2048\u001b[0m)           │             \u001b[38;5;34m0\u001b[0m │\n",
       "├─────────────────────────────────┼────────────────────────┼───────────────┤\n",
       "│ dropout (\u001b[38;5;33mDropout\u001b[0m)               │ (\u001b[38;5;45mNone\u001b[0m, \u001b[38;5;34m2048\u001b[0m)           │             \u001b[38;5;34m0\u001b[0m │\n",
       "├─────────────────────────────────┼────────────────────────┼───────────────┤\n",
       "│ dense (\u001b[38;5;33mDense\u001b[0m)                   │ (\u001b[38;5;45mNone\u001b[0m, \u001b[38;5;34m1400\u001b[0m)           │     \u001b[38;5;34m2,868,600\u001b[0m │\n",
       "├─────────────────────────────────┼────────────────────────┼───────────────┤\n",
       "│ dropout_1 (\u001b[38;5;33mDropout\u001b[0m)             │ (\u001b[38;5;45mNone\u001b[0m, \u001b[38;5;34m1400\u001b[0m)           │             \u001b[38;5;34m0\u001b[0m │\n",
       "├─────────────────────────────────┼────────────────────────┼───────────────┤\n",
       "│ dense_1 (\u001b[38;5;33mDense\u001b[0m)                 │ (\u001b[38;5;45mNone\u001b[0m, \u001b[38;5;34m38\u001b[0m)             │        \u001b[38;5;34m53,238\u001b[0m │\n",
       "└─────────────────────────────────┴────────────────────────┴───────────────┘\n"
      ]
     },
     "metadata": {},
     "output_type": "display_data"
    },
    {
     "data": {
      "text/html": [
       "<pre style=\"white-space:pre;overflow-x:auto;line-height:normal;font-family:Menlo,'DejaVu Sans Mono',consolas,'Courier New',monospace\"><span style=\"font-weight: bold\"> Total params: </span><span style=\"color: #00af00; text-decoration-color: #00af00\">7,634,062</span> (29.12 MB)\n",
       "</pre>\n"
      ],
      "text/plain": [
       "\u001b[1m Total params: \u001b[0m\u001b[38;5;34m7,634,062\u001b[0m (29.12 MB)\n"
      ]
     },
     "metadata": {},
     "output_type": "display_data"
    },
    {
     "data": {
      "text/html": [
       "<pre style=\"white-space:pre;overflow-x:auto;line-height:normal;font-family:Menlo,'DejaVu Sans Mono',consolas,'Courier New',monospace\"><span style=\"font-weight: bold\"> Trainable params: </span><span style=\"color: #00af00; text-decoration-color: #00af00\">7,634,062</span> (29.12 MB)\n",
       "</pre>\n"
      ],
      "text/plain": [
       "\u001b[1m Trainable params: \u001b[0m\u001b[38;5;34m7,634,062\u001b[0m (29.12 MB)\n"
      ]
     },
     "metadata": {},
     "output_type": "display_data"
    },
    {
     "data": {
      "text/html": [
       "<pre style=\"white-space:pre;overflow-x:auto;line-height:normal;font-family:Menlo,'DejaVu Sans Mono',consolas,'Courier New',monospace\"><span style=\"font-weight: bold\"> Non-trainable params: </span><span style=\"color: #00af00; text-decoration-color: #00af00\">0</span> (0.00 B)\n",
       "</pre>\n"
      ],
      "text/plain": [
       "\u001b[1m Non-trainable params: \u001b[0m\u001b[38;5;34m0\u001b[0m (0.00 B)\n"
      ]
     },
     "metadata": {},
     "output_type": "display_data"
    }
   ],
   "source": [
    "CNN_model.summary()"
   ]
  },
  {
   "cell_type": "code",
   "execution_count": 22,
   "id": "c7195b30-41c6-4da5-97db-0e6489fb628c",
   "metadata": {
    "tags": []
   },
   "outputs": [
    {
     "name": "stdout",
     "output_type": "stream",
     "text": [
      "Epoch 1/10\n",
      "\u001b[1m1047/1047\u001b[0m \u001b[32m━━━━━━━━━━━━━━━━━━━━\u001b[0m\u001b[37m\u001b[0m \u001b[1m1805s\u001b[0m 2s/step - accuracy: 0.3764 - loss: 2.2281 - val_accuracy: 0.8267 - val_loss: 0.5614\n",
      "Epoch 2/10\n",
      "\u001b[1m1047/1047\u001b[0m \u001b[32m━━━━━━━━━━━━━━━━━━━━\u001b[0m\u001b[37m\u001b[0m \u001b[1m1405s\u001b[0m 1s/step - accuracy: 0.8112 - loss: 0.5972 - val_accuracy: 0.8671 - val_loss: 0.4158\n",
      "Epoch 3/10\n",
      "\u001b[1m1047/1047\u001b[0m \u001b[32m━━━━━━━━━━━━━━━━━━━━\u001b[0m\u001b[37m\u001b[0m \u001b[1m1390s\u001b[0m 1s/step - accuracy: 0.8894 - loss: 0.3460 - val_accuracy: 0.9247 - val_loss: 0.2369\n",
      "Epoch 4/10\n",
      "\u001b[1m1047/1047\u001b[0m \u001b[32m━━━━━━━━━━━━━━━━━━━━\u001b[0m\u001b[37m\u001b[0m \u001b[1m1403s\u001b[0m 1s/step - accuracy: 0.9218 - loss: 0.2359 - val_accuracy: 0.9223 - val_loss: 0.2400\n",
      "Epoch 5/10\n",
      "\u001b[1m1047/1047\u001b[0m \u001b[32m━━━━━━━━━━━━━━━━━━━━\u001b[0m\u001b[37m\u001b[0m \u001b[1m1420s\u001b[0m 1s/step - accuracy: 0.9410 - loss: 0.1782 - val_accuracy: 0.9422 - val_loss: 0.1793\n",
      "Epoch 6/10\n",
      "\u001b[1m1047/1047\u001b[0m \u001b[32m━━━━━━━━━━━━━━━━━━━━\u001b[0m\u001b[37m\u001b[0m \u001b[1m1398s\u001b[0m 1s/step - accuracy: 0.9555 - loss: 0.1338 - val_accuracy: 0.9471 - val_loss: 0.1719\n",
      "Epoch 7/10\n",
      "\u001b[1m1047/1047\u001b[0m \u001b[32m━━━━━━━━━━━━━━━━━━━━\u001b[0m\u001b[37m\u001b[0m \u001b[1m1406s\u001b[0m 1s/step - accuracy: 0.9630 - loss: 0.1125 - val_accuracy: 0.9405 - val_loss: 0.1953\n",
      "Epoch 8/10\n",
      "\u001b[1m1047/1047\u001b[0m \u001b[32m━━━━━━━━━━━━━━━━━━━━\u001b[0m\u001b[37m\u001b[0m \u001b[1m1409s\u001b[0m 1s/step - accuracy: 0.9717 - loss: 0.0826 - val_accuracy: 0.9537 - val_loss: 0.1543\n",
      "Epoch 9/10\n",
      "\u001b[1m1047/1047\u001b[0m \u001b[32m━━━━━━━━━━━━━━━━━━━━\u001b[0m\u001b[37m\u001b[0m \u001b[1m1408s\u001b[0m 1s/step - accuracy: 0.9748 - loss: 0.0766 - val_accuracy: 0.9514 - val_loss: 0.1689\n",
      "Epoch 10/10\n",
      "\u001b[1m1047/1047\u001b[0m \u001b[32m━━━━━━━━━━━━━━━━━━━━\u001b[0m\u001b[37m\u001b[0m \u001b[1m1416s\u001b[0m 1s/step - accuracy: 0.9772 - loss: 0.0708 - val_accuracy: 0.9524 - val_loss: 0.1599\n"
     ]
    }
   ],
   "source": [
    "training_history = CNN_model.fit(x= train_image,validation_data=validation_image,epochs=10)"
   ]
  },
  {
   "cell_type": "code",
   "execution_count": null,
   "id": "9cc5411b-5717-4adf-ab15-83c4afb2149c",
   "metadata": {},
   "outputs": [],
   "source": []
  },
  {
   "cell_type": "markdown",
   "id": "c894e120-39b4-4392-b7ce-caf6994c27ee",
   "metadata": {},
   "source": [
    "### Evaluation model on train and validation data set"
   ]
  },
  {
   "cell_type": "code",
   "execution_count": 25,
   "id": "5a6006f9-b479-4244-8706-a17b49b8881f",
   "metadata": {},
   "outputs": [
    {
     "name": "stdout",
     "output_type": "stream",
     "text": [
      "\u001b[1m1047/1047\u001b[0m \u001b[32m━━━━━━━━━━━━━━━━━━━━\u001b[0m\u001b[37m\u001b[0m \u001b[1m587s\u001b[0m 560ms/step - accuracy: 0.9869 - loss: 0.0442\n"
     ]
    }
   ],
   "source": [
    "loss_on_train,accuracy_train = CNN_model.evaluate(train_image)"
   ]
  },
  {
   "cell_type": "code",
   "execution_count": 28,
   "id": "25e3a923-5ff5-4c84-90a0-2cda5f308cea",
   "metadata": {},
   "outputs": [
    {
     "name": "stdout",
     "output_type": "stream",
     "text": [
      " this is loss of in train data set 0.0394536517560482,accuracy 0.9882352948188782\n"
     ]
    }
   ],
   "source": [
    "print(f\" this is loss of in train data set {loss_on_train},accuracy {accuracy_train}\")"
   ]
  },
  {
   "cell_type": "code",
   "execution_count": 29,
   "id": "40a77e86-ba3c-40f2-b97e-a00126bf64db",
   "metadata": {},
   "outputs": [
    {
     "name": "stdout",
     "output_type": "stream",
     "text": [
      "\u001b[1m275/275\u001b[0m \u001b[32m━━━━━━━━━━━━━━━━━━━━\u001b[0m\u001b[37m\u001b[0m \u001b[1m187s\u001b[0m 680ms/step - accuracy: 0.9531 - loss: 0.1616\n"
     ]
    }
   ],
   "source": [
    "loss_on_val,accuracy_val = CNN_model.evaluate(validation_image)"
   ]
  },
  {
   "cell_type": "code",
   "execution_count": 30,
   "id": "623030a9-e6bf-4ff2-82af-30bc45d85dae",
   "metadata": {
    "tags": []
   },
   "outputs": [
    {
     "name": "stdout",
     "output_type": "stream",
     "text": [
      " this is loss of in validation data set 0.1598656177520752,accuracy 0.9524242877960205\n"
     ]
    }
   ],
   "source": [
    "print(f\" this is loss of in validation data set {loss_on_val},accuracy {accuracy_val}\")"
   ]
  },
  {
   "cell_type": "markdown",
   "id": "6d62d47d-d6da-45a0-9284-3b010995de43",
   "metadata": {},
   "source": [
    "### SAVING MODEL "
   ]
  },
  {
   "cell_type": "code",
   "execution_count": 79,
   "id": "e41d53d1-4a26-424e-9f6f-200d35a193e5",
   "metadata": {
    "collapsed": true,
    "jupyter": {
     "outputs_hidden": true
    },
    "tags": []
   },
   "outputs": [
    {
     "name": "stdout",
     "output_type": "stream",
     "text": [
      "Requirement already satisfied: keras in c:\\users\\roshan\\anaconda3\\lib\\site-packages (3.2.1)\n",
      "Collecting keras\n",
      "  Obtaining dependency information for keras from https://files.pythonhosted.org/packages/8d/44/c604ecc5c9993b6574a681f2f505e980725871a89cfd9e48597b12ccb506/keras-3.3.3-py3-none-any.whl.metadata\n",
      "  Downloading keras-3.3.3-py3-none-any.whl.metadata (5.7 kB)\n",
      "Requirement already satisfied: tensorflow in c:\\users\\roshan\\anaconda3\\lib\\site-packages (2.16.1)\n",
      "Requirement already satisfied: absl-py in c:\\users\\roshan\\anaconda3\\lib\\site-packages (from keras) (2.1.0)\n",
      "Requirement already satisfied: numpy in c:\\users\\roshan\\anaconda3\\lib\\site-packages (from keras) (1.24.3)\n",
      "Requirement already satisfied: rich in c:\\users\\roshan\\anaconda3\\lib\\site-packages (from keras) (13.7.1)\n",
      "Requirement already satisfied: namex in c:\\users\\roshan\\anaconda3\\lib\\site-packages (from keras) (0.0.8)\n",
      "Requirement already satisfied: h5py in c:\\users\\roshan\\anaconda3\\lib\\site-packages (from keras) (3.11.0)\n",
      "Requirement already satisfied: optree in c:\\users\\roshan\\anaconda3\\lib\\site-packages (from keras) (0.11.0)\n",
      "Requirement already satisfied: ml-dtypes in c:\\users\\roshan\\anaconda3\\lib\\site-packages (from keras) (0.3.2)\n",
      "Requirement already satisfied: tensorflow-intel==2.16.1 in c:\\users\\roshan\\anaconda3\\lib\\site-packages (from tensorflow) (2.16.1)\n",
      "Requirement already satisfied: astunparse>=1.6.0 in c:\\users\\roshan\\anaconda3\\lib\\site-packages (from tensorflow-intel==2.16.1->tensorflow) (1.6.3)\n",
      "Requirement already satisfied: flatbuffers>=23.5.26 in c:\\users\\roshan\\anaconda3\\lib\\site-packages (from tensorflow-intel==2.16.1->tensorflow) (24.3.25)\n",
      "Requirement already satisfied: gast!=0.5.0,!=0.5.1,!=0.5.2,>=0.2.1 in c:\\users\\roshan\\anaconda3\\lib\\site-packages (from tensorflow-intel==2.16.1->tensorflow) (0.5.4)\n",
      "Requirement already satisfied: google-pasta>=0.1.1 in c:\\users\\roshan\\anaconda3\\lib\\site-packages (from tensorflow-intel==2.16.1->tensorflow) (0.2.0)\n",
      "Requirement already satisfied: libclang>=13.0.0 in c:\\users\\roshan\\anaconda3\\lib\\site-packages (from tensorflow-intel==2.16.1->tensorflow) (18.1.1)\n",
      "Requirement already satisfied: opt-einsum>=2.3.2 in c:\\users\\roshan\\anaconda3\\lib\\site-packages (from tensorflow-intel==2.16.1->tensorflow) (3.3.0)\n",
      "Requirement already satisfied: packaging in c:\\users\\roshan\\anaconda3\\lib\\site-packages (from tensorflow-intel==2.16.1->tensorflow) (23.1)\n",
      "Requirement already satisfied: protobuf!=4.21.0,!=4.21.1,!=4.21.2,!=4.21.3,!=4.21.4,!=4.21.5,<5.0.0dev,>=3.20.3 in c:\\users\\roshan\\anaconda3\\lib\\site-packages (from tensorflow-intel==2.16.1->tensorflow) (4.25.3)\n",
      "Requirement already satisfied: requests<3,>=2.21.0 in c:\\users\\roshan\\anaconda3\\lib\\site-packages (from tensorflow-intel==2.16.1->tensorflow) (2.31.0)\n",
      "Requirement already satisfied: setuptools in c:\\users\\roshan\\anaconda3\\lib\\site-packages (from tensorflow-intel==2.16.1->tensorflow) (68.0.0)\n",
      "Requirement already satisfied: six>=1.12.0 in c:\\users\\roshan\\anaconda3\\lib\\site-packages (from tensorflow-intel==2.16.1->tensorflow) (1.16.0)\n",
      "Requirement already satisfied: termcolor>=1.1.0 in c:\\users\\roshan\\anaconda3\\lib\\site-packages (from tensorflow-intel==2.16.1->tensorflow) (2.4.0)\n",
      "Requirement already satisfied: typing-extensions>=3.6.6 in c:\\users\\roshan\\anaconda3\\lib\\site-packages (from tensorflow-intel==2.16.1->tensorflow) (4.7.1)\n",
      "Requirement already satisfied: wrapt>=1.11.0 in c:\\users\\roshan\\anaconda3\\lib\\site-packages (from tensorflow-intel==2.16.1->tensorflow) (1.14.1)\n",
      "Requirement already satisfied: grpcio<2.0,>=1.24.3 in c:\\users\\roshan\\anaconda3\\lib\\site-packages (from tensorflow-intel==2.16.1->tensorflow) (1.62.2)\n",
      "Requirement already satisfied: tensorboard<2.17,>=2.16 in c:\\users\\roshan\\anaconda3\\lib\\site-packages (from tensorflow-intel==2.16.1->tensorflow) (2.16.2)\n",
      "Requirement already satisfied: tensorflow-io-gcs-filesystem>=0.23.1 in c:\\users\\roshan\\anaconda3\\lib\\site-packages (from tensorflow-intel==2.16.1->tensorflow) (0.31.0)\n",
      "Requirement already satisfied: markdown-it-py>=2.2.0 in c:\\users\\roshan\\anaconda3\\lib\\site-packages (from rich->keras) (2.2.0)\n",
      "Requirement already satisfied: pygments<3.0.0,>=2.13.0 in c:\\users\\roshan\\anaconda3\\lib\\site-packages (from rich->keras) (2.15.1)\n",
      "Requirement already satisfied: wheel<1.0,>=0.23.0 in c:\\users\\roshan\\anaconda3\\lib\\site-packages (from astunparse>=1.6.0->tensorflow-intel==2.16.1->tensorflow) (0.38.4)\n",
      "Requirement already satisfied: mdurl~=0.1 in c:\\users\\roshan\\anaconda3\\lib\\site-packages (from markdown-it-py>=2.2.0->rich->keras) (0.1.0)\n",
      "Requirement already satisfied: charset-normalizer<4,>=2 in c:\\users\\roshan\\anaconda3\\lib\\site-packages (from requests<3,>=2.21.0->tensorflow-intel==2.16.1->tensorflow) (2.0.4)\n",
      "Requirement already satisfied: idna<4,>=2.5 in c:\\users\\roshan\\anaconda3\\lib\\site-packages (from requests<3,>=2.21.0->tensorflow-intel==2.16.1->tensorflow) (3.4)\n",
      "Requirement already satisfied: urllib3<3,>=1.21.1 in c:\\users\\roshan\\anaconda3\\lib\\site-packages (from requests<3,>=2.21.0->tensorflow-intel==2.16.1->tensorflow) (1.26.16)\n",
      "Requirement already satisfied: certifi>=2017.4.17 in c:\\users\\roshan\\anaconda3\\lib\\site-packages (from requests<3,>=2.21.0->tensorflow-intel==2.16.1->tensorflow) (2024.2.2)\n",
      "Requirement already satisfied: markdown>=2.6.8 in c:\\users\\roshan\\anaconda3\\lib\\site-packages (from tensorboard<2.17,>=2.16->tensorflow-intel==2.16.1->tensorflow) (3.4.1)\n",
      "Requirement already satisfied: tensorboard-data-server<0.8.0,>=0.7.0 in c:\\users\\roshan\\anaconda3\\lib\\site-packages (from tensorboard<2.17,>=2.16->tensorflow-intel==2.16.1->tensorflow) (0.7.2)\n",
      "Requirement already satisfied: werkzeug>=1.0.1 in c:\\users\\roshan\\anaconda3\\lib\\site-packages (from tensorboard<2.17,>=2.16->tensorflow-intel==2.16.1->tensorflow) (2.2.3)\n",
      "Requirement already satisfied: MarkupSafe>=2.1.1 in c:\\users\\roshan\\anaconda3\\lib\\site-packages (from werkzeug>=1.0.1->tensorboard<2.17,>=2.16->tensorflow-intel==2.16.1->tensorflow) (2.1.1)\n",
      "Downloading keras-3.3.3-py3-none-any.whl (1.1 MB)\n",
      "   ---------------------------------------- 0.0/1.1 MB ? eta -:--:--\n",
      "   ---------------------------------------- 0.0/1.1 MB ? eta -:--:--\n",
      "   ----- ---------------------------------- 0.1/1.1 MB 2.1 MB/s eta 0:00:01\n",
      "   --------- ------------------------------ 0.3/1.1 MB 2.3 MB/s eta 0:00:01\n",
      "   ----------- ---------------------------- 0.3/1.1 MB 2.1 MB/s eta 0:00:01\n",
      "   ------------- -------------------------- 0.4/1.1 MB 1.8 MB/s eta 0:00:01\n",
      "   --------------- ------------------------ 0.4/1.1 MB 1.7 MB/s eta 0:00:01\n",
      "   ----------------- ---------------------- 0.5/1.1 MB 1.6 MB/s eta 0:00:01\n",
      "   ------------------- -------------------- 0.5/1.1 MB 1.6 MB/s eta 0:00:01\n",
      "   ---------------------- ----------------- 0.6/1.1 MB 1.5 MB/s eta 0:00:01\n",
      "   ----------------------- ---------------- 0.7/1.1 MB 1.5 MB/s eta 0:00:01\n",
      "   -------------------------- ------------- 0.7/1.1 MB 1.5 MB/s eta 0:00:01\n",
      "   ---------------------------- ----------- 0.8/1.1 MB 1.5 MB/s eta 0:00:01\n",
      "   ------------------------------ --------- 0.8/1.1 MB 1.5 MB/s eta 0:00:01\n",
      "   -------------------------------- ------- 0.9/1.1 MB 1.4 MB/s eta 0:00:01\n",
      "   ---------------------------------- ----- 1.0/1.1 MB 1.5 MB/s eta 0:00:01\n",
      "   ------------------------------------- -- 1.0/1.1 MB 1.5 MB/s eta 0:00:01\n",
      "   ---------------------------------------  1.1/1.1 MB 1.4 MB/s eta 0:00:01\n",
      "   ---------------------------------------- 1.1/1.1 MB 1.4 MB/s eta 0:00:00\n",
      "Installing collected packages: keras\n",
      "  Attempting uninstall: keras\n",
      "    Found existing installation: keras 3.2.1\n",
      "    Uninstalling keras-3.2.1:\n",
      "      Successfully uninstalled keras-3.2.1\n",
      "Successfully installed keras-3.3.3\n",
      "Note: you may need to restart the kernel to use updated packages.\n"
     ]
    }
   ],
   "source": [
    "pip install --upgrade keras tensorflow"
   ]
  },
  {
   "cell_type": "code",
   "execution_count": 24,
   "id": "87a4135d-e1d1-4686-a9ba-074118b50882",
   "metadata": {
    "tags": []
   },
   "outputs": [],
   "source": [
    "CNN_model.save('trainedFuture.keras')"
   ]
  },
  {
   "cell_type": "code",
   "execution_count": 31,
   "id": "3ce8aa5a-3ef9-464b-b014-ebe9593f670b",
   "metadata": {
    "tags": []
   },
   "outputs": [
    {
     "data": {
      "text/plain": [
       "{'accuracy': [0.5742161870002747,\n",
       "  0.8353538513183594,\n",
       "  0.8991490006446838,\n",
       "  0.9275604486465454,\n",
       "  0.9445655345916748,\n",
       "  0.9584353566169739,\n",
       "  0.9646461606025696,\n",
       "  0.9730068445205688,\n",
       "  0.9759629964828491,\n",
       "  0.9774261116981506],\n",
       " 'loss': [1.4596377611160278,\n",
       "  0.5174317955970764,\n",
       "  0.3144434988498688,\n",
       "  0.22158637642860413,\n",
       "  0.16772377490997314,\n",
       "  0.12644048035144806,\n",
       "  0.10888727754354477,\n",
       "  0.07962895184755325,\n",
       "  0.07246541231870651,\n",
       "  0.0681280866265297],\n",
       " 'val_accuracy': [0.826712965965271,\n",
       "  0.8671181201934814,\n",
       "  0.9246528744697571,\n",
       "  0.9222626686096191,\n",
       "  0.9422376751899719,\n",
       "  0.9471318125724792,\n",
       "  0.9405303597450256,\n",
       "  0.9536762833595276,\n",
       "  0.9513999819755554,\n",
       "  0.9524242877960205],\n",
       " 'val_loss': [0.5613869428634644,\n",
       "  0.41576269268989563,\n",
       "  0.23689892888069153,\n",
       "  0.24002033472061157,\n",
       "  0.1793234497308731,\n",
       "  0.17194145917892456,\n",
       "  0.19528311491012573,\n",
       "  0.15433241426944733,\n",
       "  0.1688574254512787,\n",
       "  0.15986554324626923]}"
      ]
     },
     "execution_count": 31,
     "metadata": {},
     "output_type": "execute_result"
    }
   ],
   "source": [
    "training_history.history"
   ]
  },
  {
   "cell_type": "code",
   "execution_count": 32,
   "id": "bb04954f-0270-4936-9e45-0b4bc8d70f7b",
   "metadata": {
    "tags": []
   },
   "outputs": [],
   "source": [
    "import json"
   ]
  },
  {
   "cell_type": "code",
   "execution_count": 33,
   "id": "28edf66c-cedc-460e-941a-d433fcf5a54d",
   "metadata": {
    "tags": []
   },
   "outputs": [],
   "source": [
    "with open(\"trainDataAndValidation.json\",\"w\") as f:\n",
    "    json.dump(training_history.history,f)\n",
    "    "
   ]
  },
  {
   "cell_type": "code",
   "execution_count": 34,
   "id": "a7a73f31-c982-4435-9e8b-93d6c9dfa7c9",
   "metadata": {
    "tags": []
   },
   "outputs": [],
   "source": [
    "listOfEpochs = []\n",
    "j = 1\n",
    "for i in range(0,10):\n",
    "    listOfEpochs.insert(i,j)\n",
    "    j = j+1"
   ]
  },
  {
   "cell_type": "code",
   "execution_count": 112,
   "id": "a7a6a4cf-498c-4ad9-8e53-2699a64e74ba",
   "metadata": {
    "tags": []
   },
   "outputs": [],
   "source": [
    "# for i in range(0,10):\n",
    "    # print(listOfEpochs[i])    "
   ]
  },
  {
   "cell_type": "code",
   "execution_count": 36,
   "id": "ddc896b7-b0e7-41eb-8d2a-c00c7f788114",
   "metadata": {
    "tags": []
   },
   "outputs": [
    {
     "data": {
      "text/plain": [
       "<function matplotlib.pyplot.show(close=None, block=None)>"
      ]
     },
     "execution_count": 36,
     "metadata": {},
     "output_type": "execute_result"
    },
    {
     "data": {
      "image/png": "[encoded data removed]",
      "text/plain": [
       "<Figure size 640x480 with 1 Axes>"
      ]
     },
     "metadata": {},
     "output_type": "display_data"
    }
   ],
   "source": [
    "plt.plot(listOfEpochs,training_history.history['accuracy'],color = 'brown',label = 'traing_dataset_Accuracy')\n",
    "plt.plot(listOfEpochs,training_history.history['val_accuracy'],color = 'green',label = 'validation_dataset_Accuracy')\n",
    "plt.xlabel(\"No of epochs\")\n",
    "plt.ylabel(\"accuracy\")\n",
    "plt.legend()\n",
    "plt.show         "
   ]
  },
  {
   "cell_type": "code",
   "execution_count": 52,
   "id": "a5dd601a-3f02-4dde-b5cc-c67ee9ffe984",
   "metadata": {
    "tags": []
   },
   "outputs": [
    {
     "data": {
      "text/plain": [
       "['Apple___Apple_scab',\n",
       " 'Apple___Black_rot',\n",
       " 'Apple___Cedar_apple_rust',\n",
       " 'Apple___healthy',\n",
       " 'Blueberry___healthy',\n",
       " 'Cherry_(including_sour)___Powdery_mildew',\n",
       " 'Cherry_(including_sour)___healthy',\n",
       " 'Corn_(maize)___Cercospora_leaf_spot Gray_leaf_spot',\n",
       " 'Corn_(maize)___Common_rust_',\n",
       " 'Corn_(maize)___Northern_Leaf_Blight',\n",
       " 'Corn_(maize)___healthy',\n",
       " 'Grape___Black_rot',\n",
       " 'Grape___Esca_(Black_Measles)',\n",
       " 'Grape___Leaf_blight_(Isariopsis_Leaf_Spot)',\n",
       " 'Grape___healthy',\n",
       " 'Orange___Haunglongbing_(Citrus_greening)',\n",
       " 'Peach___Bacterial_spot',\n",
       " 'Peach___healthy',\n",
       " 'Pepper,_bell___Bacterial_spot',\n",
       " 'Pepper,_bell___healthy',\n",
       " 'Potato___Early_blight',\n",
       " 'Potato___Late_blight',\n",
       " 'Potato___healthy',\n",
       " 'Raspberry___healthy',\n",
       " 'Soybean___healthy',\n",
       " 'Squash___Powdery_mildew',\n",
       " 'Strawberry___Leaf_scorch',\n",
       " 'Strawberry___healthy',\n",
       " 'Tomato___Bacterial_spot',\n",
       " 'Tomato___Early_blight',\n",
       " 'Tomato___Late_blight',\n",
       " 'Tomato___Leaf_Mold',\n",
       " 'Tomato___Septoria_leaf_spot',\n",
       " 'Tomato___Spider_mites Two-spotted_spider_mite',\n",
       " 'Tomato___Target_Spot',\n",
       " 'Tomato___Tomato_Yellow_Leaf_Curl_Virus',\n",
       " 'Tomato___Tomato_mosaic_virus',\n",
       " 'Tomato___healthy']"
      ]
     },
     "execution_count": 52,
     "metadata": {},
     "output_type": "execute_result"
    }
   ],
   "source": [
    "AllClassName = validation_image.class_names\n",
    "AllClassName"
   ]
  },
  {
   "cell_type": "code",
   "execution_count": 128,
   "id": "41a41fd6-6e93-4832-839f-8f41acfc3c18",
   "metadata": {
    "tags": []
   },
   "outputs": [
    {
     "name": "stdout",
     "output_type": "stream",
     "text": [
      "['Apple___Apple_scab', 'Apple___Black_rot', 'Apple___Cedar_apple_rust', 'Apple___healthy', 'Blueberry___healthy', 'Cherry_(including_sour)___Powdery_mildew', 'Cherry_(including_sour)___healthy', 'Corn_(maize)___Cercospora_leaf_spot Gray_leaf_spot', 'Corn_(maize)___Common_rust_', 'Corn_(maize)___Northern_Leaf_Blight', 'Corn_(maize)___healthy', 'Grape___Black_rot', 'Grape___Esca_(Black_Measles)', 'Grape___Leaf_blight_(Isariopsis_Leaf_Spot)', 'Grape___healthy', 'Orange___Haunglongbing_(Citrus_greening)', 'Peach___Bacterial_spot', 'Peach___healthy', 'Pepper,_bell___Bacterial_spot', 'Pepper,_bell___healthy', 'Potato___Early_blight', 'Potato___Late_blight', 'Potato___healthy', 'Raspberry___healthy', 'Soybean___healthy', 'Squash___Powdery_mildew', 'Strawberry___Leaf_scorch', 'Strawberry___healthy', 'Tomato___Bacterial_spot', 'Tomato___Early_blight', 'Tomato___Late_blight', 'Tomato___Leaf_Mold', 'Tomato___Septoria_leaf_spot', 'Tomato___Spider_mites Two-spotted_spider_mite', 'Tomato___Target_Spot', 'Tomato___Tomato_Yellow_Leaf_Curl_Virus', 'Tomato___Tomato_mosaic_virus', 'Tomato___healthy']\n"
     ]
    }
   ],
   "source": [
    "print(AllClassName)"
   ]
  },
  {
   "cell_type": "markdown",
   "id": "6bf78b27-f525-42b6-b0fa-a627ed868078",
   "metadata": {},
   "source": [
    "###  test the model on test data set"
   ]
  },
  {
   "cell_type": "code",
   "execution_count": 37,
   "id": "f19d50be-ce6d-4825-bed3-d78e4d4f849e",
   "metadata": {
    "tags": []
   },
   "outputs": [
    {
     "name": "stdout",
     "output_type": "stream",
     "text": [
      "Found 17572 files belonging to 38 classes.\n"
     ]
    }
   ],
   "source": [
    "test_dataset = tf.keras.utils.image_dataset_from_directory(\n",
    "    'valid',\n",
    "    labels= \"inferred\",         #this inferred label detected form train data set automatice\n",
    "    label_mode=\"categorical\",   #means that the labels are encoded as a categorical vector,\n",
    "    class_names=None,\n",
    "    color_mode=\"rgb\",\n",
    "    batch_size=64,              # for fast processing use 64 at a time in pipe line of tensorflow\n",
    "    image_size=(128, 128),      # reduce image size of 128 by 128\n",
    "    shuffle=False,\n",
    "    seed=None,\n",
    "    validation_split=None,\n",
    "    subset=None,               #if we have both train and validation data set then this is use validation set \n",
    "    interpolation=\"bilinear\",\n",
    "    follow_links=False,\n",
    "    crop_to_aspect_ratio=False,\n",
    "    pad_to_aspect_ratio=False,\n",
    "    data_format=None,\n",
    "    verbose=True,\n",
    ")"
   ]
  },
  {
   "cell_type": "code",
   "execution_count": 38,
   "id": "d4bfe0e2-c40b-415b-98ac-73dc5ea5d5ea",
   "metadata": {
    "tags": []
   },
   "outputs": [
    {
     "name": "stdout",
     "output_type": "stream",
     "text": [
      "\u001b[1m275/275\u001b[0m \u001b[32m━━━━━━━━━━━━━━━━━━━━\u001b[0m\u001b[37m\u001b[0m \u001b[1m161s\u001b[0m 583ms/step\n"
     ]
    }
   ],
   "source": [
    "PredictionOntestDataset = CNN_model.predict(test_dataset)"
   ]
  },
  {
   "cell_type": "code",
   "execution_count": 39,
   "id": "94f6e844-9802-4029-947e-3c306094171f",
   "metadata": {
    "tags": []
   },
   "outputs": [
    {
     "name": "stdout",
     "output_type": "stream",
     "text": [
      "[[9.9995124e-01 9.4409697e-06 3.4787803e-08 ... 3.4754460e-11\n",
      "  1.2631321e-10 2.9573483e-10]\n",
      " [9.8778397e-01 1.4616802e-04 1.9921097e-06 ... 2.1516458e-08\n",
      "  3.3288615e-08 1.2882275e-07]\n",
      " [1.0000000e+00 3.4531117e-10 2.6626519e-11 ... 7.7010310e-17\n",
      "  3.1935336e-17 1.4012489e-12]\n",
      " ...\n",
      " [8.0094915e-06 3.8723815e-07 1.2322733e-05 ... 8.9962823e-06\n",
      "  6.9048082e-07 9.9486816e-01]\n",
      " [2.3572028e-07 3.5036287e-08 6.4244171e-07 ... 3.2444457e-06\n",
      "  7.3483385e-08 9.9975973e-01]\n",
      " [9.4824525e-15 3.6293938e-16 2.6789280e-14 ... 8.8203277e-15\n",
      "  5.0990971e-13 9.9999976e-01]] (17572, 38)\n"
     ]
    }
   ],
   "source": [
    "print(PredictionOntestDataset,PredictionOntestDataset.shape)"
   ]
  },
  {
   "cell_type": "code",
   "execution_count": 64,
   "id": "15501575-28ac-4f9e-9916-ad3808015bec",
   "metadata": {
    "tags": []
   },
   "outputs": [],
   "source": [
    "MaxProbability = tf.argmax(PredictionOntestDataset,axis = 1)"
   ]
  },
  {
   "cell_type": "code",
   "execution_count": 41,
   "id": "70e81eac-fc57-44b1-a3c0-f8c202f68dbb",
   "metadata": {
    "tags": []
   },
   "outputs": [
    {
     "name": "stdout",
     "output_type": "stream",
     "text": [
      "tf.Tensor([ 0  0  0 ... 37 37 37], shape=(17572,), dtype=int64)\n"
     ]
    }
   ],
   "source": [
    "print(MaxProbability)"
   ]
  },
  {
   "cell_type": "code",
   "execution_count": 43,
   "id": "fdab5fda-2718-4b26-a8fc-5a9425332ee7",
   "metadata": {
    "tags": []
   },
   "outputs": [],
   "source": [
    "TrueLevelIndataset = tf.concat([y for x,y in test_dataset],axis = 0)"
   ]
  },
  {
   "cell_type": "code",
   "execution_count": 44,
   "id": "ffe317cb-bb04-42f2-96cf-2eb3281beda5",
   "metadata": {},
   "outputs": [
    {
     "name": "stdout",
     "output_type": "stream",
     "text": [
      "tf.Tensor(\n",
      "[[1. 0. 0. ... 0. 0. 0.]\n",
      " [1. 0. 0. ... 0. 0. 0.]\n",
      " [1. 0. 0. ... 0. 0. 0.]\n",
      " ...\n",
      " [0. 0. 0. ... 0. 0. 1.]\n",
      " [0. 0. 0. ... 0. 0. 1.]\n",
      " [0. 0. 0. ... 0. 0. 1.]], shape=(17572, 38), dtype=float32)\n"
     ]
    }
   ],
   "source": [
    "print(TrueLevelIndataset)"
   ]
  },
  {
   "cell_type": "code",
   "execution_count": 45,
   "id": "d2a8db0e-0107-4afb-bc78-5735910ef638",
   "metadata": {},
   "outputs": [
    {
     "name": "stdout",
     "output_type": "stream",
     "text": [
      "tf.Tensor([ 0  0  0 ... 37 37 37], shape=(17572,), dtype=int64)\n"
     ]
    }
   ],
   "source": [
    "TruelevelIndataset = tf.argmax(TrueLevelIndataset,axis = 1)\n",
    "print(MaxProbability)"
   ]
  },
  {
   "cell_type": "code",
   "execution_count": 53,
   "id": "ad653b1d-9f4a-4edf-b0a9-8c68d156c000",
   "metadata": {},
   "outputs": [],
   "source": [
    "classification = classification_report(TruelevelIndataset,MaxProbability,target_names = AllClassName)"
   ]
  },
  {
   "cell_type": "code",
   "execution_count": 54,
   "id": "9189885c-e02a-4d6d-baea-a98109abd7a6",
   "metadata": {},
   "outputs": [
    {
     "name": "stdout",
     "output_type": "stream",
     "text": [
      "                                                    precision    recall  f1-score   support\n",
      "\n",
      "                                Apple___Apple_scab       0.98      0.90      0.94       504\n",
      "                                 Apple___Black_rot       1.00      0.95      0.97       497\n",
      "                          Apple___Cedar_apple_rust       0.92      0.98      0.95       440\n",
      "                                   Apple___healthy       0.96      0.92      0.94       502\n",
      "                               Blueberry___healthy       0.90      0.98      0.94       454\n",
      "          Cherry_(including_sour)___Powdery_mildew       0.97      0.98      0.97       421\n",
      "                 Cherry_(including_sour)___healthy       0.99      0.98      0.99       456\n",
      "Corn_(maize)___Cercospora_leaf_spot Gray_leaf_spot       0.92      0.87      0.90       410\n",
      "                       Corn_(maize)___Common_rust_       0.97      1.00      0.98       477\n",
      "               Corn_(maize)___Northern_Leaf_Blight       0.85      0.98      0.91       477\n",
      "                            Corn_(maize)___healthy       0.99      0.99      0.99       465\n",
      "                                 Grape___Black_rot       0.93      0.93      0.93       472\n",
      "                      Grape___Esca_(Black_Measles)       1.00      0.94      0.97       480\n",
      "        Grape___Leaf_blight_(Isariopsis_Leaf_Spot)       0.94      0.99      0.96       430\n",
      "                                   Grape___healthy       0.99      0.99      0.99       423\n",
      "          Orange___Haunglongbing_(Citrus_greening)       0.99      0.99      0.99       503\n",
      "                            Peach___Bacterial_spot       0.97      0.94      0.96       459\n",
      "                                   Peach___healthy       0.97      0.98      0.98       432\n",
      "                     Pepper,_bell___Bacterial_spot       0.97      0.95      0.96       478\n",
      "                            Pepper,_bell___healthy       0.94      0.94      0.94       497\n",
      "                             Potato___Early_blight       0.95      0.99      0.97       485\n",
      "                              Potato___Late_blight       0.93      0.95      0.94       485\n",
      "                                  Potato___healthy       0.94      0.94      0.94       456\n",
      "                               Raspberry___healthy       0.92      1.00      0.95       445\n",
      "                                 Soybean___healthy       0.98      0.97      0.97       505\n",
      "                           Squash___Powdery_mildew       0.97      0.99      0.98       434\n",
      "                          Strawberry___Leaf_scorch       0.98      0.93      0.95       444\n",
      "                              Strawberry___healthy       0.99      0.99      0.99       456\n",
      "                           Tomato___Bacterial_spot       0.92      0.98      0.95       425\n",
      "                             Tomato___Early_blight       0.93      0.86      0.89       480\n",
      "                              Tomato___Late_blight       0.92      0.86      0.89       463\n",
      "                                Tomato___Leaf_Mold       0.95      0.97      0.96       470\n",
      "                       Tomato___Septoria_leaf_spot       0.93      0.83      0.87       436\n",
      "     Tomato___Spider_mites Two-spotted_spider_mite       0.95      0.92      0.93       435\n",
      "                              Tomato___Target_Spot       0.85      0.92      0.89       457\n",
      "            Tomato___Tomato_Yellow_Leaf_Curl_Virus       0.99      0.99      0.99       490\n",
      "                      Tomato___Tomato_mosaic_virus       0.98      0.98      0.98       448\n",
      "                                  Tomato___healthy       0.98      0.96      0.97       481\n",
      "\n",
      "                                          accuracy                           0.95     17572\n",
      "                                         macro avg       0.95      0.95      0.95     17572\n",
      "                                      weighted avg       0.95      0.95      0.95     17572\n",
      "\n"
     ]
    }
   ],
   "source": [
    "print(classification)"
   ]
  },
  {
   "cell_type": "code",
   "execution_count": 56,
   "id": "1716c39b-ae76-46c6-86aa-a33b8a7a9975",
   "metadata": {},
   "outputs": [],
   "source": [
    "confusion_matrixs = confusion_matrix(TruelevelIndataset,MaxProbability)"
   ]
  },
  {
   "cell_type": "code",
   "execution_count": 57,
   "id": "fa4e05bd-6865-4cde-aa2c-47bc113125b8",
   "metadata": {},
   "outputs": [
    {
     "name": "stdout",
     "output_type": "stream",
     "text": [
      "[[452   1   1 ...   0   0   0]\n",
      " [  3 471   1 ...   0   0   0]\n",
      " [  0   0 433 ...   0   0   0]\n",
      " ...\n",
      " [  0   0   0 ... 484   0   0]\n",
      " [  0   0   0 ...   0 441   0]\n",
      " [  0   0   2 ...   0   0 462]]\n",
      "(38, 38)\n"
     ]
    }
   ],
   "source": [
    "print(confusion_matrixs)\n",
    "print(confusion_matrixs.shape)"
   ]
  },
  {
   "cell_type": "code",
   "execution_count": 63,
   "id": "5c42db99-0cca-4a6a-9147-e9252731fb7a",
   "metadata": {},
   "outputs": [
    {
     "data": {
      "image/png": "[encoded data removed]",
      "text/plain": [
       "<Figure size 5000x5000 with 2 Axes>"
      ]
     },
     "metadata": {},
     "output_type": "display_data"
    }
   ],
   "source": [
    "plt.figure(figsize=(50, 50))\n",
    "sns.heatmap(confusion_matrixs,annot=True,annot_kws={\"size\": 15})\n",
    "plt.xlabel('PredictionClass',fontsize = 25)\n",
    "plt.ylabel('Actual_Class',fontsize = 25)\n",
    "plt.title('confusion_Matrix',fontsize = 25)\n",
    "plt.show()"
   ]
  },
  {
   "cell_type": "code",
   "execution_count": null,
   "id": "7ec22cb6-fc59-46ea-8260-de88ffa5a54d",
   "metadata": {},
   "outputs": [],
   "source": []
  }
 ],
 "metadata": {
  "kernelspec": {
   "display_name": "Python 3 (ipykernel)",
   "language": "python",
   "name": "python3"
  },
  "language_info": {
   "codemirror_mode": {
    "name": "ipython",
    "version": 3
   },
   "file_extension": ".py",
   "mimetype": "text/x-python",
   "name": "python",
   "nbconvert_exporter": "python",
   "pygments_lexer": "ipython3",
   "version": "3.11.7"
  }
 },
 "nbformat": 4,
 "nbformat_minor": 5
}
